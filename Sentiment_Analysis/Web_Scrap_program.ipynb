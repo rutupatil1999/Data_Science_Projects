{
 "cells": [
  {
   "cell_type": "code",
   "execution_count": 2,
   "metadata": {},
   "outputs": [],
   "source": [
    "import requests\n",
    "from bs4 import BeautifulSoup\n",
    "\n",
    "import numpy as np\n",
    "import pandas as pd\n",
    "import time"
   ]
  },
  {
   "cell_type": "code",
   "execution_count": 2,
   "metadata": {},
   "outputs": [
    {
     "data": {
      "text/plain": [
       "(114, 2)"
      ]
     },
     "execution_count": 2,
     "metadata": {},
     "output_type": "execute_result"
    }
   ],
   "source": [
    "df = pd.read_excel('Input.xlsx')\n",
    "df.shape"
   ]
  },
  {
   "cell_type": "code",
   "execution_count": 3,
   "metadata": {},
   "outputs": [],
   "source": [
    "#df.head()\n",
    "def url_file(i):\n",
    "    url_id = str(df.URL_ID.loc[i])\n",
    "    url = df.URL.loc[i]\n",
    "    print(url_id, url)\n",
    "    return url, url_id"
   ]
  },
  {
   "cell_type": "code",
   "execution_count": 36,
   "metadata": {},
   "outputs": [],
   "source": [
    "def text_file(j,title_class):\n",
    "    url,url_id = url_file(j)\n",
    "\n",
    "    response = requests.get(url)\n",
    "\n",
    "    soup = BeautifulSoup(response.content, 'html.parser')\n",
    "\n",
    "    # Find the title and article text elements in the HTML\n",
    "    title_element = soup.find('h1', class_=title_class)\n",
    "    article_text_element = soup.find('div', class_='td-post-content tagdiv-type')\n",
    "\n",
    "    # Extract the text content of the title and article text elements\n",
    "    title_text = title_element.get_text().strip()\n",
    "    article_text = article_text_element.get_text().strip()\n",
    "\n",
    "    # Create the file name using the URL_ID\n",
    "    file_name = url_id + '.txt'\n",
    "\n",
    "    # Write the extracted text to a file with the URL_ID as its name\n",
    "    '''with open(file_name, 'w', encoding='utf-8') as file:\n",
    "    file.write(title_text + '\\n\\n')\n",
    "    file.write(article_text)'''\n",
    "        \n",
    "    texts = article_text_element.find_all('p','ul','h2')\n",
    "    with open(file_name, 'w', encoding='utf-8') as file:\n",
    "        file.write(title_text + '\\n\\n')\n",
    "        file.close()\n",
    "    file1 = open(file_name, \"a\")\n",
    "    for text in texts: \n",
    "        print(text.get_text())\n",
    "        file1.write(text.get_text())\n",
    "        file1.write('\\n')\n",
    "    file1.close()\n",
    "\n",
    "    return url_file  "
   ]
  },
  {
   "cell_type": "code",
   "execution_count": 5,
   "metadata": {},
   "outputs": [
    {
     "name": "stdout",
     "output_type": "stream",
     "text": [
      "37 https://insights.blackcoffer.com/ai-in-healthcare-to-improve-patient-outcomes/\n",
      "38 https://insights.blackcoffer.com/what-if-the-creation-is-taking-over-the-creator/\n",
      "39 https://insights.blackcoffer.com/what-jobs-will-robots-take-from-humans-in-the-future/\n",
      "40 https://insights.blackcoffer.com/will-machine-replace-the-human-in-the-future-of-work/\n",
      "41 https://insights.blackcoffer.com/will-ai-replace-us-or-work-with-us/\n",
      "42 https://insights.blackcoffer.com/man-and-machines-together-machines-are-more-diligent-than-humans-blackcoffe/\n",
      "43 https://insights.blackcoffer.com/in-future-or-in-upcoming-years-humans-and-machines-are-going-to-work-together-in-every-field-of-work/\n",
      "44 https://insights.blackcoffer.com/how-neural-networks-can-be-applied-in-various-areas-in-the-future/\n",
      "7\n",
      "except\n",
      "45 https://insights.blackcoffer.com/how-machine-learning-will-affect-your-business/\n",
      "46 https://insights.blackcoffer.com/deep-learning-impact-on-areas-of-e-learning/\n",
      "47 https://insights.blackcoffer.com/how-to-protect-future-data-and-its-privacy-blackcoffer/\n",
      "48 https://insights.blackcoffer.com/how-machines-ai-automations-and-robo-human-are-effective-in-finance-and-banking/\n",
      "49 https://insights.blackcoffer.com/ai-human-robotics-machine-future-planet-blackcoffer-thinking-jobs-workplace/\n",
      "50 https://insights.blackcoffer.com/how-ai-will-change-the-world-blackcoffer/\n",
      "51 https://insights.blackcoffer.com/future-of-work-how-ai-has-entered-the-workplace/\n",
      "14\n",
      "except\n",
      "52 https://insights.blackcoffer.com/ai-tool-alexa-google-assistant-finance-banking-tool-future/\n",
      "53 https://insights.blackcoffer.com/ai-healthcare-revolution-ml-technology-algorithm-google-analytics-industrialrevolution/\n",
      "54 https://insights.blackcoffer.com/all-you-need-to-know-about-online-marketing/\n",
      "55 https://insights.blackcoffer.com/evolution-of-advertising-industry/\n",
      "56 https://insights.blackcoffer.com/how-data-analytics-can-help-your-business-respond-to-the-impact-of-covid-19/\n",
      "57 https://insights.blackcoffer.com/covid-19-environmental-impact-for-the-future/\n",
      "20\n",
      "except\n",
      "58 https://insights.blackcoffer.com/environmental-impact-of-the-covid-19-pandemic-lesson-for-the-future/\n",
      "59 https://insights.blackcoffer.com/how-data-analytics-and-ai-are-used-to-halt-the-covid-19-pandemic/\n",
      "60 https://insights.blackcoffer.com/difference-between-artificial-intelligence-machine-learning-statistics-and-data-mining/\n",
      "61 https://insights.blackcoffer.com/how-python-became-the-first-choice-for-data-science/\n",
      "62 https://insights.blackcoffer.com/how-google-fit-measure-heart-and-respiratory-rates-using-a-phone/\n",
      "63 https://insights.blackcoffer.com/what-is-the-future-of-mobile-apps/\n",
      "64 https://insights.blackcoffer.com/impact-of-ai-in-health-and-medicine/\n",
      "65 https://insights.blackcoffer.com/telemedicine-what-patients-like-and-dislike-about-it/\n",
      "66 https://insights.blackcoffer.com/how-we-forecast-future-technologies/\n",
      "67 https://insights.blackcoffer.com/can-robots-tackle-late-life-loneliness/\n",
      "68 https://insights.blackcoffer.com/embedding-care-robots-into-society-socio-technical-considerations/\n",
      "69 https://insights.blackcoffer.com/management-challenges-for-future-digitalization-of-healthcare-services/\n",
      "70 https://insights.blackcoffer.com/are-we-any-closer-to-preventing-a-nuclear-holocaust/\n",
      "71 https://insights.blackcoffer.com/will-technology-eliminate-the-need-for-animal-testing-in-drug-development/\n",
      "72 https://insights.blackcoffer.com/will-we-ever-understand-the-nature-of-consciousness/\n",
      "73 https://insights.blackcoffer.com/will-we-ever-colonize-outer-space/\n",
      "74 https://insights.blackcoffer.com/what-is-the-chance-homo-sapiens-will-survive-for-the-next-500-years/\n",
      "75 https://insights.blackcoffer.com/why-does-your-business-need-a-chatbot/\n",
      "76 https://insights.blackcoffer.com/how-you-lead-a-project-or-a-team-without-any-technical-expertise/\n",
      "77 https://insights.blackcoffer.com/can-you-be-great-leader-without-technical-expertise/\n",
      "78 https://insights.blackcoffer.com/how-does-artificial-intelligence-affect-the-environment/\n",
      "79 https://insights.blackcoffer.com/how-to-overcome-your-fear-of-making-mistakes-2/\n",
      "80 https://insights.blackcoffer.com/is-perfection-the-greatest-enemy-of-productivity/\n",
      "81 https://insights.blackcoffer.com/global-financial-crisis-2008-causes-effects-and-its-solution/\n",
      "82 https://insights.blackcoffer.com/gender-diversity-and-equality-in-the-tech-industry/\n",
      "83 https://insights.blackcoffer.com/how-to-overcome-your-fear-of-making-mistakes/\n",
      "84 https://insights.blackcoffer.com/how-small-business-can-survive-the-coronavirus-crisis/\n",
      "85 https://insights.blackcoffer.com/impacts-of-covid-19-on-vegetable-vendors-and-food-stalls/\n",
      "86 https://insights.blackcoffer.com/impacts-of-covid-19-on-vegetable-vendors/\n",
      "87 https://insights.blackcoffer.com/impact-of-covid-19-pandemic-on-tourism-aviation-industries/\n",
      "88 https://insights.blackcoffer.com/impact-of-covid-19-pandemic-on-sports-events-around-the-world/\n",
      "89 https://insights.blackcoffer.com/changing-landscape-and-emerging-trends-in-the-indian-it-ites-industry/\n",
      "90 https://insights.blackcoffer.com/online-gaming-adolescent-online-gaming-effects-demotivated-depression-musculoskeletal-and-psychosomatic-symptoms/\n",
      "91 https://insights.blackcoffer.com/human-rights-outlook/\n",
      "54\n",
      "except\n",
      "92 https://insights.blackcoffer.com/how-voice-search-makes-your-business-a-successful-business/\n",
      "55\n",
      "except\n",
      "93 https://insights.blackcoffer.com/how-the-covid-19-crisis-is-redefining-jobs-and-services/\n",
      "94 https://insights.blackcoffer.com/how-to-increase-social-media-engagement-for-marketers/\n",
      "95 https://insights.blackcoffer.com/impacts-of-covid-19-on-streets-sides-food-stalls/\n",
      "96 https://insights.blackcoffer.com/coronavirus-impact-on-energy-markets-2/\n",
      "97 https://insights.blackcoffer.com/coronavirus-impact-on-the-hospitality-industry-5/\n",
      "98 https://insights.blackcoffer.com/lessons-from-the-past-some-key-learnings-relevant-to-the-coronavirus-crisis-4/\n",
      "99 https://insights.blackcoffer.com/estimating-the-impact-of-covid-19-on-the-world-of-work-2/\n",
      "100 https://insights.blackcoffer.com/estimating-the-impact-of-covid-19-on-the-world-of-work-3/\n",
      "63\n",
      "except\n",
      "101 https://insights.blackcoffer.com/travel-and-tourism-outlook/\n",
      "102 https://insights.blackcoffer.com/gaming-disorder-and-effects-of-gaming-on-health/\n",
      "103 https://insights.blackcoffer.com/what-is-the-repercussion-of-the-environment-due-to-the-covid-19-pandemic-situation/\n",
      "104 https://insights.blackcoffer.com/what-is-the-repercussion-of-the-environment-due-to-the-covid-19-pandemic-situation-2/\n",
      "105 https://insights.blackcoffer.com/impact-of-covid-19-pandemic-on-office-space-and-co-working-industries/\n",
      "106 https://insights.blackcoffer.com/contribution-of-handicrafts-visual-arts-literature-in-the-indian-economy/\n",
      "107 https://insights.blackcoffer.com/how-covid-19-is-impacting-payment-preferences/\n",
      "70\n",
      "except\n",
      "108 https://insights.blackcoffer.com/how-will-covid-19-affect-the-world-of-work-2/\n",
      "71\n",
      "except\n",
      "109 https://insights.blackcoffer.com/lessons-from-the-past-some-key-learnings-relevant-to-the-coronavirus-crisis/\n",
      "110 https://insights.blackcoffer.com/covid-19-how-have-countries-been-responding/\n",
      "111 https://insights.blackcoffer.com/coronavirus-impact-on-the-hospitality-industry-2/\n",
      "112 https://insights.blackcoffer.com/how-will-covid-19-affect-the-world-of-work-3/\n",
      "75\n",
      "except\n",
      "113 https://insights.blackcoffer.com/coronavirus-impact-on-the-hospitality-industry-3/\n",
      "114 https://insights.blackcoffer.com/estimating-the-impact-of-covid-19-on-the-world-of-work/\n",
      "115 https://insights.blackcoffer.com/covid-19-how-have-countries-been-responding-2/\n",
      "116 https://insights.blackcoffer.com/how-will-covid-19-affect-the-world-of-work-4/\n",
      "117 https://insights.blackcoffer.com/lessons-from-the-past-some-key-learnings-relevant-to-the-coronavirus-crisis-2/\n",
      "118 https://insights.blackcoffer.com/lessons-from-the-past-some-key-learnings-relevant-to-the-coronavirus-crisis-3/\n",
      "119 https://insights.blackcoffer.com/coronavirus-impact-on-the-hospitality-industry-4/\n",
      "120 https://insights.blackcoffer.com/why-scams-like-nirav-modi-happen-with-indian-banks/\n",
      "121 https://insights.blackcoffer.com/impact-of-covid-19-on-the-global-economy/\n",
      "122 https://insights.blackcoffer.com/impact-of-covid-19coronavirus-on-the-indian-economy-2/\n",
      "123 https://insights.blackcoffer.com/impact-of-covid-19-on-the-global-economy-2/\n",
      "124 https://insights.blackcoffer.com/impact-of-covid-19-coronavirus-on-the-indian-economy-3/\n",
      "125 https://insights.blackcoffer.com/should-celebrities-be-allowed-to-join-politics/\n",
      "126 https://insights.blackcoffer.com/how-prepared-is-india-to-tackle-a-possible-covid-19-outbreak/\n",
      "127 https://insights.blackcoffer.com/how-will-covid-19-affect-the-world-of-work/\n",
      "128 https://insights.blackcoffer.com/controversy-as-a-marketing-strategy/\n",
      "129 https://insights.blackcoffer.com/coronavirus-impact-on-the-hospitality-industry/\n",
      "130 https://insights.blackcoffer.com/coronavirus-impact-on-energy-markets/\n",
      "131 https://insights.blackcoffer.com/what-are-the-key-policies-that-will-mitigate-the-impacts-of-covid-19-on-the-world-of-work/\n",
      "132 https://insights.blackcoffer.com/marketing-drives-results-with-a-focus-on-problems/\n",
      "133 https://insights.blackcoffer.com/continued-demand-for-sustainability/\n",
      "134 https://insights.blackcoffer.com/coronavirus-disease-covid-19-effect-the-impact-and-role-of-mass-media-during-the-pandemic/\n",
      "135 https://insights.blackcoffer.com/should-people-wear-fabric-gloves-seeking-evidence-regarding-the-differential-transfer-of-covid-19-or-coronaviruses-generally-between-surfaces/\n",
      "136 https://insights.blackcoffer.com/why-is-there-a-severe-immunological-and-inflammatory-explosion-in-those-affected-by-sarms-covid-19/\n",
      "137 https://insights.blackcoffer.com/what-do-you-think-is-the-lesson-or-lessons-to-be-learned-with-covid-19/\n",
      "138 https://insights.blackcoffer.com/coronavirus-the-unexpected-challenge-for-the-european-union/\n",
      "139 https://insights.blackcoffer.com/industrial-revolution-4-0-pros-and-cons/\n",
      "140 https://insights.blackcoffer.com/impact-of-covid-19-coronavirus-on-the-indian-economy/\n",
      "141 https://insights.blackcoffer.com/impact-of-covid-19-coronavirus-on-the-indian-economy-2/\n",
      "142 https://insights.blackcoffer.com/impact-of-covid-19coronavirus-on-the-indian-economy/\n",
      "143 https://insights.blackcoffer.com/impact-of-covid-19-coronavirus-on-the-global-economy/\n",
      "144 https://insights.blackcoffer.com/ensuring-growth-through-insurance-technology/\n",
      "107\n",
      "except\n",
      "145 https://insights.blackcoffer.com/blockchain-in-fintech/\n",
      "146 https://insights.blackcoffer.com/blockchain-for-payments/\n",
      "147 https://insights.blackcoffer.com/the-future-of-investing/\n",
      "148 https://insights.blackcoffer.com/big-data-analytics-in-healthcare/\n",
      "149 https://insights.blackcoffer.com/business-analytics-in-the-healthcare-industry/\n",
      "150 https://insights.blackcoffer.com/challenges-and-opportunities-of-big-data-in-healthcare/\n"
     ]
    }
   ],
   "source": [
    "temp = {'id':[]}\n",
    "rem = {'id':[0]}\n",
    "while len(rem['id']) > 0:\n",
    "    try:\n",
    "        if len(rem['id'])>0:\n",
    "            j=rem['id'].pop()\n",
    "            for j in range(j, len(df)):\n",
    "                text_file(j, 'entry-title')  \n",
    "    except:\n",
    "        time.sleep(2)\n",
    "        print(j)\n",
    "        print('except')\n",
    "        temp['id'].append(j)\n",
    "        rem['id'].append(j+1)"
   ]
  },
  {
   "cell_type": "markdown",
   "metadata": {},
   "source": [
    "url = 'https://insights.blackcoffer.com/ai-in-healthcare-to-improve-patient-outcomes/'\n",
    "\n",
    "response = requests.get(url)\n",
    "\n",
    "soup = BeautifulSoup(response.content, 'html.parser')    \n",
    "# Find the title and article text elements in the HTML\n",
    "title_element = soup.find('h1', class_='entry-title')\n",
    "article_text_element = soup.find('div', class_='td-post-content tagdiv-type')"
   ]
  },
  {
   "cell_type": "code",
   "execution_count": 39,
   "metadata": {},
   "outputs": [
    {
     "name": "stdout",
     "output_type": "stream",
     "text": [
      "107\n",
      "144 https://insights.blackcoffer.com/ensuring-growth-through-insurance-technology/\n",
      "except 107\n",
      "71\n",
      "108 https://insights.blackcoffer.com/how-will-covid-19-affect-the-world-of-work-2/\n",
      "except 71\n",
      "63\n",
      "100 https://insights.blackcoffer.com/estimating-the-impact-of-covid-19-on-the-world-of-work-3/\n",
      "except 63\n",
      "54\n",
      "91 https://insights.blackcoffer.com/human-rights-outlook/\n",
      "except 54\n",
      "14\n",
      "51 https://insights.blackcoffer.com/future-of-work-how-ai-has-entered-the-workplace/\n",
      "except 14\n"
     ]
    }
   ],
   "source": [
    "import copy\n",
    "rem = copy.deepcopy(temp)\n",
    "temp['id'].clear()\n",
    "\n",
    "while len(rem['id']) > 0:\n",
    "    try:\n",
    "        j=rem['id'].pop()\n",
    "        print(j)\n",
    "        text_file(j,'tdb-title-text')  \n",
    "    except:\n",
    "        #time.sleep(2)\n",
    "        print('except', j)\n",
    "        temp['id'].append(j)\n",
    "        rem['id'].pop()\n",
    "        #rem['id'].append(j+1)\n"
   ]
  },
  {
   "cell_type": "code",
   "execution_count": 38,
   "metadata": {},
   "outputs": [],
   "source": [
    "temp ={'id':[7, 14, 20, 54, 55, 63, 70, 71, 75, 107]}"
   ]
  },
  {
   "cell_type": "code",
   "execution_count": 27,
   "metadata": {},
   "outputs": [
    {
     "data": {
      "text/plain": [
       "{'id': [107, 71, 63, 54, 14]}"
      ]
     },
     "execution_count": 27,
     "metadata": {},
     "output_type": "execute_result"
    }
   ],
   "source": [
    "temp"
   ]
  },
  {
   "cell_type": "code",
   "execution_count": 23,
   "metadata": {},
   "outputs": [
    {
     "data": {
      "text/plain": [
       "{'id': []}"
      ]
     },
     "execution_count": 23,
     "metadata": {},
     "output_type": "execute_result"
    }
   ],
   "source": [
    "#44,51,57,91,92,100,107,108,112,144"
   ]
  },
  {
   "cell_type": "code",
   "execution_count": 24,
   "metadata": {},
   "outputs": [
    {
     "data": {
      "text/plain": [
       "URL_ID                                                   44\n",
       "URL       https://insights.blackcoffer.com/how-neural-ne...\n",
       "Name: 7, dtype: object"
      ]
     },
     "execution_count": 24,
     "metadata": {},
     "output_type": "execute_result"
    }
   ],
   "source": [
    "df.iloc[]"
   ]
  },
  {
   "cell_type": "code",
   "execution_count": 11,
   "metadata": {},
   "outputs": [
    {
     "data": {
      "text/plain": [
       "'texts = article_text_element.find_all(\\'p\\',\\'ul\\',\\'h2\\')\\nwith open(file_name, \\'w\\', encoding=\\'utf-8\\') as file:\\n    file.write(title_text + \\'\\n\\n\\')\\n    file.close()\\nfile1 = open(file_name, \"a\")\\nfor text in texts: \\n    print(text.get_text())\\n    file1.write(text.get_text())\\n    file1.write(\\'\\n\\')\\nfile1.close()'"
      ]
     },
     "execution_count": 11,
     "metadata": {},
     "output_type": "execute_result"
    }
   ],
   "source": [
    "    url,url_id = 'https://insights.blackcoffer.com/how-will-covid-19-affect-the-world-of-work-2/', '108'\n",
    "\n",
    "    response = requests.get(url)\n",
    "\n",
    "    time.sleep(2)\n",
    "\n",
    "    soup = BeautifulSoup(response.content, 'html.parser')\n",
    "\n",
    "    # Find the title and article text elements in the HTML\n",
    "    title_element = soup.find('h1', class_='tdb-title-text')\n",
    "    article_text_element = soup.find('div', class_='td_block_wrap tdb_single_content tdi_186 td-pb-border-top td_block_template_1 td-post-content tagdiv-type',)\n",
    "\n",
    "    # Extract the text content of the title and article text elements\n",
    "    title_text = title_element.get_text().strip()\n",
    "    article_text = article_text_element.get_text().strip()\n",
    "\n",
    "    # Create the file name using the URL_ID\n",
    "    file_name = url_id + '.txt'\n",
    "\n",
    "    # Write the extracted text to a file with the URL_ID as its name\n",
    "    with open(file_name, 'w', encoding='utf-8') as file:\n",
    "        file.write(title_text + '\\n\\n')\n",
    "        file.write(article_text)\n",
    "        file.close()\n",
    "        \n",
    "    '''texts = article_text_element.find_all('p','ul','h2')\n",
    "    with open(file_name, 'w', encoding='utf-8') as file:\n",
    "        file.write(title_text + '\\n\\n')\n",
    "        file.close()\n",
    "    file1 = open(file_name, \"a\")\n",
    "    for text in texts: \n",
    "        print(text.get_text())\n",
    "        file1.write(text.get_text())\n",
    "        file1.write('\\n')\n",
    "    file1.close()'''"
   ]
  },
  {
   "cell_type": "code",
   "execution_count": 17,
   "metadata": {},
   "outputs": [
    {
     "data": {
      "text/plain": [
       "'As business close to help prevent transmission of COVID-19, financial concerns and job losses are one of the first human impacts of the virus;\\nNot knowing how this pandemic will play out also affects our economic, physical and mental well-being;Despite this fear, businesses and communities in many regions have shown a more altruistic response in the face of crisis – actions which could help countries preparing for COVID-19.\\nCOVID-19 is in decline in China. There are now more new cases every day in Europe than there were in China at the epidemic’s peak and Italy has surpassed it as the country with the most deaths from the virus It took 67 days to reach the first 100,000 confirmed cases worldwide, 11 days for this to increase to 200,000and just four to reach 300,000 confirmed cases – a figure now exceeded.\\nThe Human Consequences\\nIn recent weeks, we have seen the significant economic impact of the coronavirus on financial markets and vulnerable industries such as manufacturing, tourism, hospitality and travel.\\xa0Travel and tourism account for 10% of the global GDP and 50 million jobs are at risk worldwide.\\nGlobal tourism, travel and hospitality companies closing down affects SMEs globally. This, in turn, affects many people, typically the least well-paid and those self-employed or working in informal environments in the gig economy or in part-time work with zero-hours contracts. Some governments have announced economic measures to safeguard jobs, guarantee wages and support the self-employed, but there is a lack of clarity in many countries about how these measures will be implemented and how people will manage a loss of income in the short-term.\\nBehind these statistics lie the human costs of the pandemic, from the deaths of friends and family to the physical effects of infection and the mental trauma and fear faced by almost everyone. Not knowing how this pandemic will play out affects our economic, physical and mental well-being against a backdrop of a world that, for many, is increasingly anxious, unhappy and lonely.\\nFear of the unknown can often lead to feelings of panic, for example when people feel they are being denied life-saving protection or treatment or that they may run out of necessities, which can lead to panic buying.Psychological stress is often related to a sense of a lack of control in the face of uncertainty.\\nIn all cases, lack of information or the wrong information, either provided inadvertently or maliciously, can amplify the effects. There is a huge amount of misleading information circulating online about COVID-19, from fake medical information to speculation about government responses. People are susceptible to social media posts from an apparently trustworthy source, often referred to as an “Uncle with a Masters”-post, possibly amplified and spread by “copypasta” posts, which share information by copying and pasting and make each new post look like an original source, as opposed to posts that are “liked” or “shared” or “retweeted”.\\nSadly, criminals and hackers are also exploiting this situation and there has been a significant rise in Coronavirus-themed malicious websites, with more than 16,000 new coronavirus-related domains registered since January 2020. Hackers are selling malware and hacking tools through COVID-19 discount codes on the darknet,many of which are aimed at accessing corporate data from home-workers’ laptops, which may not be as secure as outside an office environment.\\nSocial distancing and lockdowns have also prompted altruistic behaviors, in part because of the sense that “we’re all in this together”. Many people report being bored or concerned about putting on weight;\\xa0others have discovered a slower pace of life and by not going out and socializing have found more time for family, others, and even their pets.\\nThe downside of self-isolation or social lockdown are symptoms of traumatic stress, confusion and anger, all of which are exacerbated by fear of infection, having limited access to supplies of necessities, inadequate information or the experience of economic loss or stigma. This stress and anxiety can lead to increased alcohol consumption, as well as an increase in domestic and family violence.In Jingzhou, a town near Wuhan in Hubei province, reports of domestic violence during the lockdown in February 2020 were more than triple the number reported in February 2019.\\nEssential Actions From The Business Community\\nHealth measures must be the first priority for governments, business and society. It is important for businesses to show solidarity and work together to protect staff, local communities and customers, as well as keeping supply chains, manufacturing and logistics working.According to research, “my employer” is more trusted than the government or media. Daily updates on a company website with input from scientists and experts are recommended to counter politicized messages in the media and from governments. This is particularly true for large companies that have the capacity to do this.\\nMessages about what businesses are doing for their employees and in their communities is also important. Some companies are helping schoolchildren from vulnerable families who can no longer get a school meal; others are providing public health messages about effective handwashing. Even CEOs can show they are working from home and self-isolating, while still being effective in their leadership.\\nFollowing WHO advice, there is a need for the business community to move from general support to specific actions and focus on countries’ access to critical supplies, including a “Community Package of Critical Items” (a list of 46 items that all countries need). Of these items, 20 are either not available locally or available stocks are too limited. These missing items fall into four categories:\\nHygiene: Chlorine, HTH 70%, alcohol based hand rub, liquid soap;Diagnostics: lab screening tests, lab confirmation tests, enzymes, RNA extraction kits;PPE: gowns, scrubs, aprons, sterile gloves, protective goggles, face shields, masks (N95 or FFP2);Case management equipment: oxygen concentrators, oxygen delivery systems, mechanical ventilators.\\nThe call for action is for more money, to work with manufacturers to create capacity and to organize purchasing so there is guaranteed access, especially for poorer countries with less resilient public health systems. The concept is to create a global security stockpile of supplies and equipment, an effort that needs:\\nEmergency financingAccess to and increases in manufacturing capacityAccess to national and supplier stockpilesWarehouses and distribution capacity\\nBlackcoffer Insights 17:-Jatin Tiwari,Gurukul Kangri Deemed University, Haridwar'"
      ]
     },
     "execution_count": 17,
     "metadata": {},
     "output_type": "execute_result"
    }
   ],
   "source": [
    "article_text.lstrip()"
   ]
  },
  {
   "cell_type": "code",
   "execution_count": 67,
   "metadata": {},
   "outputs": [
    {
     "data": {
      "text/plain": [
       "[]"
      ]
     },
     "execution_count": 67,
     "metadata": {},
     "output_type": "execute_result"
    }
   ],
   "source": [
    "soup.find_all_next('tdb-block-inner td-fix-index')"
   ]
  },
  {
   "cell_type": "code",
   "execution_count": null,
   "metadata": {},
   "outputs": [],
   "source": []
  }
 ],
 "metadata": {
  "kernelspec": {
   "display_name": "GUI_Envio",
   "language": "python",
   "name": "python3"
  },
  "language_info": {
   "codemirror_mode": {
    "name": "ipython",
    "version": 3
   },
   "file_extension": ".py",
   "mimetype": "text/x-python",
   "name": "python",
   "nbconvert_exporter": "python",
   "pygments_lexer": "ipython3",
   "version": "3.10.8"
  },
  "orig_nbformat": 4
 },
 "nbformat": 4,
 "nbformat_minor": 2
}

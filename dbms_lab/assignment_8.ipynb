{
 "cells": [
  {
   "cell_type": "code",
   "execution_count": 1,
   "metadata": {},
   "outputs": [],
   "source": [
    "import mysql.connector\n",
    "import pandas as pd"
   ]
  },
  {
   "cell_type": "code",
   "execution_count": 3,
   "metadata": {},
   "outputs": [],
   "source": [
    "cnx=mysql.connector.connect(host=\"127.0.0.1\",\n",
    "                            port=3306,\n",
    "                            user=\"root\",\n",
    "                            password=\"\",\n",
    "                            database=\"py_test_db\")"
   ]
  },
  {
   "cell_type": "code",
   "execution_count": 4,
   "metadata": {},
   "outputs": [],
   "source": [
    "cur=cnx.cursor(buffered=True)"
   ]
  },
  {
   "cell_type": "code",
   "execution_count": 5,
   "metadata": {},
   "outputs": [],
   "source": [
    "query = '''CREATE FUNCTION calculate_question1_salary(jan_salary DECIMAL(10,2), feb_salary DECIMAL(10,2), mar_salary DECIMAL(10,2))\n",
    "RETURNS DECIMAL(10,2)\n",
    "BEGIN\n",
    "    DECLARE q1_salary DECIMAL(10,2);\n",
    "    SET q1_salary = jan_salary + feb_salary + mar_salary;\n",
    "    RETURN q1_salary;\n",
    "END;'''\n",
    "cur.execute(query)"
   ]
  },
  {
   "cell_type": "code",
   "execution_count": 8,
   "metadata": {},
   "outputs": [
    {
     "name": "stdout",
     "output_type": "stream",
     "text": [
      "(Decimal('6000.00'),)\n"
     ]
    }
   ],
   "source": [
    "query1='''SELECT calculate_question1_salary(1000,2000, 3000) AS q1_salary;'''\n",
    "cur.execute(query1)\n",
    "result = cur.fetchall()\n",
    "for row in result:\n",
    "    print(row)"
   ]
  },
  {
   "cell_type": "code",
   "execution_count": 9,
   "metadata": {},
   "outputs": [],
   "source": [
    "c=cur.execute('''CREATE TABLE instructor5 (\n",
    "    ID INT,\n",
    "    name VARCHAR(255),\n",
    "    dept_name VARCHAR(255),\n",
    "    salary INT,\n",
    "    age INT\n",
    ");''')\n",
    "\n",
    "c=cur.execute('''INSERT INTO instructor5 (ID, name, dept_name, salary, age) VALUES\n",
    "    (10101,'Srinivasan','Comp. Sci.',65000, 34),\n",
    "    (12121,'Wu','Finance',90000, 38),\n",
    "    (15151,'Mozart','Music',40000, 45),\n",
    "    (22222,'Einstein','Physics',95000, 55);''')"
   ]
  },
  {
   "cell_type": "code",
   "execution_count": 10,
   "metadata": {},
   "outputs": [],
   "source": [
    "q5='''CREATE FUNCTION is_eligible_for_sabbatical(age INT)\n",
    "RETURNS BOOLEAN\n",
    "BEGIN\n",
    "    IF age > 40 THEN\n",
    "        RETURN TRUE;\n",
    "    ELSE\n",
    "        RETURN FALSE;\n",
    "    END IF;\n",
    "END;'''\n",
    "cur.execute(q5)"
   ]
  },
  {
   "cell_type": "code",
   "execution_count": 14,
   "metadata": {},
   "outputs": [
    {
     "name": "stdout",
     "output_type": "stream",
     "text": [
      "(1,)\n"
     ]
    }
   ],
   "source": [
    "q5='''SELECT is_eligible_for_sabbatical(45);'''\n",
    "cur.execute(q5)\n",
    "result = cur.fetchall()\n",
    "for row in result:\n",
    "    print(row)"
   ]
  },
  {
   "cell_type": "code",
   "execution_count": null,
   "metadata": {},
   "outputs": [],
   "source": []
  }
 ],
 "metadata": {
  "kernelspec": {
   "display_name": "Python 3",
   "language": "python",
   "name": "python3"
  },
  "language_info": {
   "codemirror_mode": {
    "name": "ipython",
    "version": 3
   },
   "file_extension": ".py",
   "mimetype": "text/x-python",
   "name": "python",
   "nbconvert_exporter": "python",
   "pygments_lexer": "ipython3",
   "version": "3.10.6"
  },
  "orig_nbformat": 4
 },
 "nbformat": 4,
 "nbformat_minor": 2
}

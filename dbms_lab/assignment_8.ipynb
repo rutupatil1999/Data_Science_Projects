{
 "cells": [
  {
   "cell_type": "code",
   "execution_count": 1,
   "metadata": {},
   "outputs": [],
   "source": [
    "import mysql.connector\n",
    "import pandas as pd"
   ]
  },
  {
   "cell_type": "code",
   "execution_count": 3,
   "metadata": {},
   "outputs": [],
   "source": [
    "cnx=mysql.connector.connect(host=\"127.0.0.1\",\n",
    "                            port=3306,\n",
    "                            user=\"root\",\n",
    "                            password=\"\",\n",
    "                            database=\"py_test_db\")"
   ]
  },
  {
   "cell_type": "code",
   "execution_count": 4,
   "metadata": {},
   "outputs": [],
   "source": [
    "cur=cnx.cursor(buffered=True)"
   ]
  },
  {
   "cell_type": "code",
   "execution_count": 5,
   "metadata": {},
   "outputs": [],
   "source": [
    "query = '''CREATE FUNCTION calculate_question1_salary(jan_salary DECIMAL(10,2), feb_salary DECIMAL(10,2), mar_salary DECIMAL(10,2))\n",
    "RETURNS DECIMAL(10,2)\n",
    "BEGIN\n",
    "    DECLARE q1_salary DECIMAL(10,2);\n",
    "    SET q1_salary = jan_salary + feb_salary + mar_salary;\n",
    "    RETURN q1_salary;\n",
    "END;'''\n",
    "cur.execute(query)"
   ]
  },
  {
   "cell_type": "code",
   "execution_count": null,
   "metadata": {},
   "outputs": [],
   "source": []
  }
 ],
 "metadata": {
  "kernelspec": {
   "display_name": "Python 3",
   "language": "python",
   "name": "python3"
  },
  "language_info": {
   "codemirror_mode": {
    "name": "ipython",
    "version": 3
   },
   "file_extension": ".py",
   "mimetype": "text/x-python",
   "name": "python",
   "nbconvert_exporter": "python",
   "pygments_lexer": "ipython3",
   "version": "3.10.6"
  },
  "orig_nbformat": 4
 },
 "nbformat": 4,
 "nbformat_minor": 2
}
